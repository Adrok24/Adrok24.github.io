{
  "nbformat": 4,
  "nbformat_minor": 0,
  "metadata": {
    "colab": {
      "name": "Untitled15.ipynb",
      "provenance": []
    },
    "kernelspec": {
      "name": "python3",
      "display_name": "Python 3"
    },
    "language_info": {
      "name": "python"
    }
  },
  "cells": [
    {
      "cell_type": "code",
      "metadata": {
        "id": "w6HZJVXqenlb"
      },
      "source": [
        "import pandas as pd\n"
      ],
      "execution_count": 1,
      "outputs": []
    },
    {
      "cell_type": "markdown",
      "metadata": {
        "id": "liSKvHzglJv8"
      },
      "source": [
        "**Análisis de las tablas csv con las que contamos**"
      ]
    },
    {
      "cell_type": "code",
      "metadata": {
        "id": "LZz422f2g15p"
      },
      "source": [
        "items = pd.read_csv('/content/items000 (1).csv')"
      ],
      "execution_count": 2,
      "outputs": []
    },
    {
      "cell_type": "code",
      "metadata": {
        "colab": {
          "base_uri": "https://localhost:8080/"
        },
        "id": "Ch3M5QH-i8TN",
        "outputId": "dbf8e054-cb6e-42ed-b965-b4cc8825740c"
      },
      "source": [
        ""
      ],
      "execution_count": 3,
      "outputs": [
        {
          "output_type": "execute_result",
          "data": {
            "text/plain": [
              "Index(['sku', 'product_name', 'category', 'brand', 'active', 'price'], dtype='object')"
            ]
          },
          "metadata": {},
          "execution_count": 3
        }
      ]
    },
    {
      "cell_type": "markdown",
      "source": [
        "**Hay 836491 items totales**"
      ],
      "metadata": {
        "id": "jwcL7kNE7kr0"
      }
    },
    {
      "cell_type": "code",
      "source": [
        "items = items.rename(columns={'sku': 'ITEM_ID', 'product_name':'ITEM_NAME','category':'CATEGORY_L1', 'brand':'ITEM_BRAND', 'active': 'ITEM_STATUS', 'price':'PRICE'})"
      ],
      "metadata": {
        "id": "PbSG8srf7jp0"
      },
      "execution_count": 6,
      "outputs": []
    },
    {
      "cell_type": "markdown",
      "source": [
        "**Se observa una gran cantidad de items con columnas nulas**"
      ],
      "metadata": {
        "id": "gOmUqlBc7Wdk"
      }
    },
    {
      "cell_type": "code",
      "source": [
        "items.to_csv('items_poc.csv')"
      ],
      "metadata": {
        "id": "fLqNN8Tl7TZ_"
      },
      "execution_count": 11,
      "outputs": []
    },
    {
      "cell_type": "code",
      "metadata": {
        "id": "7T6CRc13iYRk"
      },
      "source": [
        "items_with_product_name = items.dropna(subset=['product_name'])\n"
      ],
      "execution_count": null,
      "outputs": []
    },
    {
      "cell_type": "code",
      "source": [
        "items_with_product_name"
      ],
      "metadata": {
        "id": "zH9DYvqm56CC",
        "outputId": "3edad84c-2432-46b5-cd6c-b0bb40f655f4",
        "colab": {
          "base_uri": "https://localhost:8080/",
          "height": 408
        }
      },
      "execution_count": null,
      "outputs": [
        {
          "output_type": "execute_result",
          "data": {
            "text/html": [
              "<div>\n",
              "<style scoped>\n",
              "    .dataframe tbody tr th:only-of-type {\n",
              "        vertical-align: middle;\n",
              "    }\n",
              "\n",
              "    .dataframe tbody tr th {\n",
              "        vertical-align: top;\n",
              "    }\n",
              "\n",
              "    .dataframe thead th {\n",
              "        text-align: right;\n",
              "    }\n",
              "</style>\n",
              "<table border=\"1\" class=\"dataframe\">\n",
              "  <thead>\n",
              "    <tr style=\"text-align: right;\">\n",
              "      <th></th>\n",
              "      <th>sku</th>\n",
              "      <th>product_name</th>\n",
              "      <th>category</th>\n",
              "      <th>brand</th>\n",
              "      <th>active</th>\n",
              "      <th>color</th>\n",
              "      <th>season</th>\n",
              "      <th>line</th>\n",
              "    </tr>\n",
              "  </thead>\n",
              "  <tbody>\n",
              "    <tr>\n",
              "      <th>8</th>\n",
              "      <td>00-5-000F34163-05.5-P</td>\n",
              "      <td>Zapatillas Adidas Originals Superstar</td>\n",
              "      <td>NaN</td>\n",
              "      <td>Adidas</td>\n",
              "      <td>0</td>\n",
              "      <td>NaN</td>\n",
              "      <td>NaN</td>\n",
              "      <td>NaN</td>\n",
              "    </tr>\n",
              "    <tr>\n",
              "      <th>9</th>\n",
              "      <td>00-2-000DN6715-02.0-P</td>\n",
              "      <td>Short Adidas Afa Home 2019</td>\n",
              "      <td>NaN</td>\n",
              "      <td>Adidas</td>\n",
              "      <td>0</td>\n",
              "      <td>NaN</td>\n",
              "      <td>NaN</td>\n",
              "      <td>NaN</td>\n",
              "    </tr>\n",
              "    <tr>\n",
              "      <th>10</th>\n",
              "      <td>00-1-000CQ1855-10.0-P</td>\n",
              "      <td>Zapatillas Adidas Approach</td>\n",
              "      <td>NaN</td>\n",
              "      <td>Adidas</td>\n",
              "      <td>0</td>\n",
              "      <td>NaN</td>\n",
              "      <td>NaN</td>\n",
              "      <td>NaN</td>\n",
              "    </tr>\n",
              "    <tr>\n",
              "      <th>11</th>\n",
              "      <td>01-2-000162616-04.0-P</td>\n",
              "      <td>Remera Topper BÃ¡sica Ii</td>\n",
              "      <td>NaN</td>\n",
              "      <td>Topper</td>\n",
              "      <td>0</td>\n",
              "      <td>NaN</td>\n",
              "      <td>NaN</td>\n",
              "      <td>NaN</td>\n",
              "    </tr>\n",
              "    <tr>\n",
              "      <th>12</th>\n",
              "      <td>02-2-910830010-01.0-P</td>\n",
              "      <td>M Nk Brthe Tailwind Top Ls Gx Black</td>\n",
              "      <td>NaN</td>\n",
              "      <td>Nike</td>\n",
              "      <td>0</td>\n",
              "      <td>NaN</td>\n",
              "      <td>NaN</td>\n",
              "      <td>NaN</td>\n",
              "    </tr>\n",
              "    <tr>\n",
              "      <th>...</th>\n",
              "      <td>...</td>\n",
              "      <td>...</td>\n",
              "      <td>...</td>\n",
              "      <td>...</td>\n",
              "      <td>...</td>\n",
              "      <td>...</td>\n",
              "      <td>...</td>\n",
              "      <td>...</td>\n",
              "    </tr>\n",
              "    <tr>\n",
              "      <th>836457</th>\n",
              "      <td>FJ9361</td>\n",
              "      <td>Mochila Adidas Classic</td>\n",
              "      <td>Mochilas</td>\n",
              "      <td>Adidas</td>\n",
              "      <td>0</td>\n",
              "      <td>Azul</td>\n",
              "      <td>NaN</td>\n",
              "      <td>Mochilas</td>\n",
              "    </tr>\n",
              "    <tr>\n",
              "      <th>836459</th>\n",
              "      <td>163770</td>\n",
              "      <td>Short Topper Line Boys Ii</td>\n",
              "      <td>NaN</td>\n",
              "      <td>Topper</td>\n",
              "      <td>0</td>\n",
              "      <td>NaN</td>\n",
              "      <td>NaN</td>\n",
              "      <td>NaN</td>\n",
              "    </tr>\n",
              "    <tr>\n",
              "      <th>836460</th>\n",
              "      <td>B007A102K0138</td>\n",
              "      <td>Zapatillas Addnice Classic Nilo Kids</td>\n",
              "      <td>NaN</td>\n",
              "      <td>Addnice</td>\n",
              "      <td>0</td>\n",
              "      <td>NaN</td>\n",
              "      <td>NaN</td>\n",
              "      <td>NaN</td>\n",
              "    </tr>\n",
              "    <tr>\n",
              "      <th>836465</th>\n",
              "      <td>26099</td>\n",
              "      <td>Zapatillas Topper Rep</td>\n",
              "      <td>NaN</td>\n",
              "      <td>Topper</td>\n",
              "      <td>0</td>\n",
              "      <td>NaN</td>\n",
              "      <td>NaN</td>\n",
              "      <td>NaN</td>\n",
              "    </tr>\n",
              "    <tr>\n",
              "      <th>836471</th>\n",
              "      <td>O1568701</td>\n",
              "      <td>Remera Converse Star Textil</td>\n",
              "      <td>NaN</td>\n",
              "      <td>Converse</td>\n",
              "      <td>0</td>\n",
              "      <td>NaN</td>\n",
              "      <td>NaN</td>\n",
              "      <td>NaN</td>\n",
              "    </tr>\n",
              "  </tbody>\n",
              "</table>\n",
              "<p>97473 rows × 8 columns</p>\n",
              "</div>"
            ],
            "text/plain": [
              "                          sku  ...      line\n",
              "8       00-5-000F34163-05.5-P  ...       NaN\n",
              "9       00-2-000DN6715-02.0-P  ...       NaN\n",
              "10      00-1-000CQ1855-10.0-P  ...       NaN\n",
              "11      01-2-000162616-04.0-P  ...       NaN\n",
              "12      02-2-910830010-01.0-P  ...       NaN\n",
              "...                       ...  ...       ...\n",
              "836457                 FJ9361  ...  Mochilas\n",
              "836459                 163770  ...       NaN\n",
              "836460          B007A102K0138  ...       NaN\n",
              "836465                  26099  ...       NaN\n",
              "836471               O1568701  ...       NaN\n",
              "\n",
              "[97473 rows x 8 columns]"
            ]
          },
          "metadata": {},
          "execution_count": 57
        }
      ]
    },
    {
      "cell_type": "code",
      "source": [
        "active_items = items[items['active']==1]"
      ],
      "metadata": {
        "id": "0e-D6Qaf6EQ0"
      },
      "execution_count": null,
      "outputs": []
    },
    {
      "cell_type": "markdown",
      "source": [
        "**Tenemos 2800 items activos**"
      ],
      "metadata": {
        "id": "Xy2O3vQh6xDG"
      }
    },
    {
      "cell_type": "code",
      "source": [
        "active_items"
      ],
      "metadata": {
        "id": "rc0Im8nT6u-l",
        "outputId": "d9e96983-36f8-40a9-8cd8-aab262b8c44e",
        "colab": {
          "base_uri": "https://localhost:8080/",
          "height": 408
        }
      },
      "execution_count": null,
      "outputs": [
        {
          "output_type": "execute_result",
          "data": {
            "text/html": [
              "<div>\n",
              "<style scoped>\n",
              "    .dataframe tbody tr th:only-of-type {\n",
              "        vertical-align: middle;\n",
              "    }\n",
              "\n",
              "    .dataframe tbody tr th {\n",
              "        vertical-align: top;\n",
              "    }\n",
              "\n",
              "    .dataframe thead th {\n",
              "        text-align: right;\n",
              "    }\n",
              "</style>\n",
              "<table border=\"1\" class=\"dataframe\">\n",
              "  <thead>\n",
              "    <tr style=\"text-align: right;\">\n",
              "      <th></th>\n",
              "      <th>sku</th>\n",
              "      <th>product_name</th>\n",
              "      <th>category</th>\n",
              "      <th>brand</th>\n",
              "      <th>active</th>\n",
              "      <th>color</th>\n",
              "      <th>season</th>\n",
              "      <th>line</th>\n",
              "    </tr>\n",
              "  </thead>\n",
              "  <tbody>\n",
              "    <tr>\n",
              "      <th>34082</th>\n",
              "      <td>12120</td>\n",
              "      <td>NaN</td>\n",
              "      <td>NaN</td>\n",
              "      <td>NaN</td>\n",
              "      <td>1</td>\n",
              "      <td>NaN</td>\n",
              "      <td>NaN</td>\n",
              "      <td>NaN</td>\n",
              "    </tr>\n",
              "    <tr>\n",
              "      <th>61516</th>\n",
              "      <td>851740/03</td>\n",
              "      <td>NaN</td>\n",
              "      <td>NaN</td>\n",
              "      <td>Puma</td>\n",
              "      <td>1</td>\n",
              "      <td>NaN</td>\n",
              "      <td>NaN</td>\n",
              "      <td>NaN</td>\n",
              "    </tr>\n",
              "    <tr>\n",
              "      <th>61517</th>\n",
              "      <td>K231149MW-K843</td>\n",
              "      <td>NaN</td>\n",
              "      <td>NaN</td>\n",
              "      <td>Kappa</td>\n",
              "      <td>1</td>\n",
              "      <td>NaN</td>\n",
              "      <td>NaN</td>\n",
              "      <td>NaN</td>\n",
              "    </tr>\n",
              "    <tr>\n",
              "      <th>61606</th>\n",
              "      <td>C-10998-6N4</td>\n",
              "      <td>NaN</td>\n",
              "      <td>NaN</td>\n",
              "      <td>Crocs</td>\n",
              "      <td>1</td>\n",
              "      <td>NaN</td>\n",
              "      <td>NaN</td>\n",
              "      <td>NaN</td>\n",
              "    </tr>\n",
              "    <tr>\n",
              "      <th>61686</th>\n",
              "      <td>53118</td>\n",
              "      <td>NaN</td>\n",
              "      <td>NaN</td>\n",
              "      <td>La Gear</td>\n",
              "      <td>1</td>\n",
              "      <td>NaN</td>\n",
              "      <td>NaN</td>\n",
              "      <td>NaN</td>\n",
              "    </tr>\n",
              "    <tr>\n",
              "      <th>...</th>\n",
              "      <td>...</td>\n",
              "      <td>...</td>\n",
              "      <td>...</td>\n",
              "      <td>...</td>\n",
              "      <td>...</td>\n",
              "      <td>...</td>\n",
              "      <td>...</td>\n",
              "      <td>...</td>\n",
              "    </tr>\n",
              "    <tr>\n",
              "      <th>836331</th>\n",
              "      <td>CD0299-433</td>\n",
              "      <td>NaN</td>\n",
              "      <td>NaN</td>\n",
              "      <td>Nike</td>\n",
              "      <td>1</td>\n",
              "      <td>NaN</td>\n",
              "      <td>NaN</td>\n",
              "      <td>NaN</td>\n",
              "    </tr>\n",
              "    <tr>\n",
              "      <th>836359</th>\n",
              "      <td>MULTIEU1</td>\n",
              "      <td>NaN</td>\n",
              "      <td>NaN</td>\n",
              "      <td>NaN</td>\n",
              "      <td>1</td>\n",
              "      <td>NaN</td>\n",
              "      <td>NaN</td>\n",
              "      <td>NaN</td>\n",
              "    </tr>\n",
              "    <tr>\n",
              "      <th>836360</th>\n",
              "      <td>MULTIUS8</td>\n",
              "      <td>NaN</td>\n",
              "      <td>NaN</td>\n",
              "      <td>NaN</td>\n",
              "      <td>1</td>\n",
              "      <td>NaN</td>\n",
              "      <td>NaN</td>\n",
              "      <td>NaN</td>\n",
              "    </tr>\n",
              "    <tr>\n",
              "      <th>836393</th>\n",
              "      <td>733SPM1002-001</td>\n",
              "      <td>NaN</td>\n",
              "      <td>NaN</td>\n",
              "      <td>NaN</td>\n",
              "      <td>1</td>\n",
              "      <td>NaN</td>\n",
              "      <td>NaN</td>\n",
              "      <td>NaN</td>\n",
              "    </tr>\n",
              "    <tr>\n",
              "      <th>836481</th>\n",
              "      <td>C11030FK104</td>\n",
              "      <td>NaN</td>\n",
              "      <td>NaN</td>\n",
              "      <td>NaN</td>\n",
              "      <td>1</td>\n",
              "      <td>NaN</td>\n",
              "      <td>NaN</td>\n",
              "      <td>NaN</td>\n",
              "    </tr>\n",
              "  </tbody>\n",
              "</table>\n",
              "<p>2800 rows × 8 columns</p>\n",
              "</div>"
            ],
            "text/plain": [
              "                   sku product_name category    brand  active color season line\n",
              "34082            12120          NaN      NaN      NaN       1   NaN    NaN  NaN\n",
              "61516        851740/03          NaN      NaN     Puma       1   NaN    NaN  NaN\n",
              "61517   K231149MW-K843          NaN      NaN    Kappa       1   NaN    NaN  NaN\n",
              "61606      C-10998-6N4          NaN      NaN    Crocs       1   NaN    NaN  NaN\n",
              "61686            53118          NaN      NaN  La Gear       1   NaN    NaN  NaN\n",
              "...                ...          ...      ...      ...     ...   ...    ...  ...\n",
              "836331      CD0299-433          NaN      NaN     Nike       1   NaN    NaN  NaN\n",
              "836359        MULTIEU1          NaN      NaN      NaN       1   NaN    NaN  NaN\n",
              "836360        MULTIUS8          NaN      NaN      NaN       1   NaN    NaN  NaN\n",
              "836393  733SPM1002-001          NaN      NaN      NaN       1   NaN    NaN  NaN\n",
              "836481     C11030FK104          NaN      NaN      NaN       1   NaN    NaN  NaN\n",
              "\n",
              "[2800 rows x 8 columns]"
            ]
          },
          "metadata": {},
          "execution_count": 59
        }
      ]
    },
    {
      "cell_type": "markdown",
      "source": [
        "**De los items activos quedan muy pocos que tengan todos los atributos**"
      ],
      "metadata": {
        "id": "uIPQGUlS6-nh"
      }
    },
    {
      "cell_type": "code",
      "source": [
        "active_items.dropna()"
      ],
      "metadata": {
        "id": "-FCnpTtR65Ke",
        "outputId": "6d4d7256-ac61-401c-d64f-2c11a864d88f",
        "colab": {
          "base_uri": "https://localhost:8080/",
          "height": 622
        }
      },
      "execution_count": null,
      "outputs": [
        {
          "output_type": "execute_result",
          "data": {
            "text/html": [
              "<div>\n",
              "<style scoped>\n",
              "    .dataframe tbody tr th:only-of-type {\n",
              "        vertical-align: middle;\n",
              "    }\n",
              "\n",
              "    .dataframe tbody tr th {\n",
              "        vertical-align: top;\n",
              "    }\n",
              "\n",
              "    .dataframe thead th {\n",
              "        text-align: right;\n",
              "    }\n",
              "</style>\n",
              "<table border=\"1\" class=\"dataframe\">\n",
              "  <thead>\n",
              "    <tr style=\"text-align: right;\">\n",
              "      <th></th>\n",
              "      <th>sku</th>\n",
              "      <th>product_name</th>\n",
              "      <th>category</th>\n",
              "      <th>brand</th>\n",
              "      <th>active</th>\n",
              "      <th>color</th>\n",
              "      <th>season</th>\n",
              "      <th>line</th>\n",
              "    </tr>\n",
              "  </thead>\n",
              "  <tbody>\n",
              "    <tr>\n",
              "      <th>61932</th>\n",
              "      <td>DY6395</td>\n",
              "      <td>Malla Adidas Allover Printed</td>\n",
              "      <td>Trajes De Baño</td>\n",
              "      <td>Adidas</td>\n",
              "      <td>1</td>\n",
              "      <td>Azul</td>\n",
              "      <td>Otoño/Invierno</td>\n",
              "      <td>Trajes de baño</td>\n",
              "    </tr>\n",
              "    <tr>\n",
              "      <th>61933</th>\n",
              "      <td>52425</td>\n",
              "      <td>Zapatillas Topper Huayra</td>\n",
              "      <td>Zapatillas</td>\n",
              "      <td>Topper</td>\n",
              "      <td>1</td>\n",
              "      <td>Azul</td>\n",
              "      <td>Verano</td>\n",
              "      <td>Zapatillas</td>\n",
              "    </tr>\n",
              "    <tr>\n",
              "      <th>61936</th>\n",
              "      <td>A9TRAASO07CD</td>\n",
              "      <td>Botas Addnice Urban Sonic</td>\n",
              "      <td>Zapatillas</td>\n",
              "      <td>Addnice</td>\n",
              "      <td>1</td>\n",
              "      <td>Negro</td>\n",
              "      <td>Otoño</td>\n",
              "      <td>Zapatillas</td>\n",
              "    </tr>\n",
              "    <tr>\n",
              "      <th>62059</th>\n",
              "      <td>44817</td>\n",
              "      <td>Zapatillas Topper T.350</td>\n",
              "      <td>Zapatillas</td>\n",
              "      <td>Topper</td>\n",
              "      <td>1</td>\n",
              "      <td>Gris</td>\n",
              "      <td>Invierno</td>\n",
              "      <td>Zapatillas</td>\n",
              "    </tr>\n",
              "    <tr>\n",
              "      <th>131417</th>\n",
              "      <td>WKOZELS2</td>\n",
              "      <td>Zapatillas New Balance Koze</td>\n",
              "      <td>Zapatillas</td>\n",
              "      <td>New Balance</td>\n",
              "      <td>1</td>\n",
              "      <td>Gris</td>\n",
              "      <td>Verano</td>\n",
              "      <td>Zapatillas</td>\n",
              "    </tr>\n",
              "    <tr>\n",
              "      <th>131449</th>\n",
              "      <td>EE7494</td>\n",
              "      <td>Zapatillas Adidas Advantage</td>\n",
              "      <td>Zapatillas</td>\n",
              "      <td>Adidas</td>\n",
              "      <td>1</td>\n",
              "      <td>Blanco</td>\n",
              "      <td>Primavera/Verano</td>\n",
              "      <td>Zapatillas</td>\n",
              "    </tr>\n",
              "    <tr>\n",
              "      <th>131478</th>\n",
              "      <td>29737</td>\n",
              "      <td>Zapatillas Topper Fast</td>\n",
              "      <td>Zapatillas</td>\n",
              "      <td>Topper</td>\n",
              "      <td>1</td>\n",
              "      <td>Azul</td>\n",
              "      <td>Verano</td>\n",
              "      <td>Zapatillas</td>\n",
              "    </tr>\n",
              "    <tr>\n",
              "      <th>200941</th>\n",
              "      <td>A9D1AACC13E9</td>\n",
              "      <td>Zapatillas Addnice Baby Smash Nairobi</td>\n",
              "      <td>Zapatillas</td>\n",
              "      <td>Addnice</td>\n",
              "      <td>1</td>\n",
              "      <td>Azul</td>\n",
              "      <td>Otoño</td>\n",
              "      <td>Zapatillas</td>\n",
              "    </tr>\n",
              "    <tr>\n",
              "      <th>270501</th>\n",
              "      <td>1072A012-104</td>\n",
              "      <td>Zapatillas Asics Upcourt 3</td>\n",
              "      <td>Zapatillas</td>\n",
              "      <td>Asics</td>\n",
              "      <td>1</td>\n",
              "      <td>Blanco</td>\n",
              "      <td>Invierno</td>\n",
              "      <td>Zapatillas</td>\n",
              "    </tr>\n",
              "    <tr>\n",
              "      <th>276001</th>\n",
              "      <td>36942302</td>\n",
              "      <td>Ojotas Puma Popcat Flower Power</td>\n",
              "      <td>Ojotas</td>\n",
              "      <td>Puma</td>\n",
              "      <td>1</td>\n",
              "      <td>Fucsia</td>\n",
              "      <td>Primavera</td>\n",
              "      <td>Ojotas</td>\n",
              "    </tr>\n",
              "    <tr>\n",
              "      <th>277614</th>\n",
              "      <td>L21038-L35</td>\n",
              "      <td>Pantalón Le Coq Sportif Gelp Retro Tributo Die...</td>\n",
              "      <td>Pantalones</td>\n",
              "      <td>Le Coq Sportif</td>\n",
              "      <td>1</td>\n",
              "      <td>Azul</td>\n",
              "      <td>Invierno</td>\n",
              "      <td>Pantalones</td>\n",
              "    </tr>\n",
              "    <tr>\n",
              "      <th>340418</th>\n",
              "      <td>8195823763</td>\n",
              "      <td>Ojotas Rider Dunas Xi Fem</td>\n",
              "      <td>Ojotas</td>\n",
              "      <td>Rider</td>\n",
              "      <td>1</td>\n",
              "      <td>Marrón</td>\n",
              "      <td>Verano</td>\n",
              "      <td>Ojotas</td>\n",
              "    </tr>\n",
              "    <tr>\n",
              "      <th>340452</th>\n",
              "      <td>652375B</td>\n",
              "      <td>Zapatillas Converse Chuck Taylor All Star</td>\n",
              "      <td>Zapatillas</td>\n",
              "      <td>Converse</td>\n",
              "      <td>1</td>\n",
              "      <td>Gris</td>\n",
              "      <td>Primavera</td>\n",
              "      <td>Zapatillas</td>\n",
              "    </tr>\n",
              "    <tr>\n",
              "      <th>340453</th>\n",
              "      <td>19130931</td>\n",
              "      <td>Zapatillas Puma Nryg Comet</td>\n",
              "      <td>Zapatillas</td>\n",
              "      <td>Puma</td>\n",
              "      <td>1</td>\n",
              "      <td>Azul</td>\n",
              "      <td>Otoño</td>\n",
              "      <td>Zapatillas</td>\n",
              "    </tr>\n",
              "    <tr>\n",
              "      <th>549732</th>\n",
              "      <td>A9D1AACT13E9</td>\n",
              "      <td>Zapatillas Addnice Baby Smash Nairobi</td>\n",
              "      <td>Zapatillas</td>\n",
              "      <td>Addnice</td>\n",
              "      <td>1</td>\n",
              "      <td>Rosa</td>\n",
              "      <td>Otoño</td>\n",
              "      <td>Zapatillas</td>\n",
              "    </tr>\n",
              "    <tr>\n",
              "      <th>549781</th>\n",
              "      <td>58142103</td>\n",
              "      <td>Pantalón Puma Amplified Tr Sportstyle</td>\n",
              "      <td>Pantalones</td>\n",
              "      <td>Puma</td>\n",
              "      <td>1</td>\n",
              "      <td>Gris</td>\n",
              "      <td>Otoño</td>\n",
              "      <td>Pantalones</td>\n",
              "    </tr>\n",
              "    <tr>\n",
              "      <th>622819</th>\n",
              "      <td>19300201</td>\n",
              "      <td>Zapatillas Puma Nrgy Star</td>\n",
              "      <td>Zapatillas</td>\n",
              "      <td>Puma</td>\n",
              "      <td>1</td>\n",
              "      <td>Negro</td>\n",
              "      <td>Invierno</td>\n",
              "      <td>Zapatillas</td>\n",
              "    </tr>\n",
              "    <tr>\n",
              "      <th>689623</th>\n",
              "      <td>749869-201</td>\n",
              "      <td>Zapatillas Nike Md Runner 2</td>\n",
              "      <td>Zapatillas</td>\n",
              "      <td>Nike</td>\n",
              "      <td>1</td>\n",
              "      <td>Rosa</td>\n",
              "      <td>Otoño</td>\n",
              "      <td>Zapatillas</td>\n",
              "    </tr>\n",
              "    <tr>\n",
              "      <th>758792</th>\n",
              "      <td>A9D1AACO13E9</td>\n",
              "      <td>Zapatillas Addnice Baby Smash Nairobi</td>\n",
              "      <td>Zapatillas</td>\n",
              "      <td>Addnice</td>\n",
              "      <td>1</td>\n",
              "      <td>Negro</td>\n",
              "      <td>Otoño</td>\n",
              "      <td>Zapatillas</td>\n",
              "    </tr>\n",
              "  </tbody>\n",
              "</table>\n",
              "</div>"
            ],
            "text/plain": [
              "                 sku  ...            line\n",
              "61932         DY6395  ...  Trajes de baño\n",
              "61933          52425  ...      Zapatillas\n",
              "61936   A9TRAASO07CD  ...      Zapatillas\n",
              "62059          44817  ...      Zapatillas\n",
              "131417      WKOZELS2  ...      Zapatillas\n",
              "131449        EE7494  ...      Zapatillas\n",
              "131478         29737  ...      Zapatillas\n",
              "200941  A9D1AACC13E9  ...      Zapatillas\n",
              "270501  1072A012-104  ...      Zapatillas\n",
              "276001      36942302  ...          Ojotas\n",
              "277614    L21038-L35  ...      Pantalones\n",
              "340418    8195823763  ...          Ojotas\n",
              "340452       652375B  ...      Zapatillas\n",
              "340453      19130931  ...      Zapatillas\n",
              "549732  A9D1AACT13E9  ...      Zapatillas\n",
              "549781      58142103  ...      Pantalones\n",
              "622819      19300201  ...      Zapatillas\n",
              "689623    749869-201  ...      Zapatillas\n",
              "758792  A9D1AACO13E9  ...      Zapatillas\n",
              "\n",
              "[19 rows x 8 columns]"
            ]
          },
          "metadata": {},
          "execution_count": 60
        }
      ]
    },
    {
      "cell_type": "markdown",
      "source": [
        "**Y del total de items, tomando activos e inactivos hay solo 880 items con atributos completos**"
      ],
      "metadata": {
        "id": "WaXDVUAe7wsr"
      }
    },
    {
      "cell_type": "code",
      "source": [
        "items.dropna()"
      ],
      "metadata": {
        "id": "7-rSyuHY6j4P",
        "outputId": "4811891a-77ca-4c8f-f5ed-f2357891bf7c",
        "colab": {
          "base_uri": "https://localhost:8080/",
          "height": 408
        }
      },
      "execution_count": null,
      "outputs": [
        {
          "output_type": "execute_result",
          "data": {
            "text/html": [
              "<div>\n",
              "<style scoped>\n",
              "    .dataframe tbody tr th:only-of-type {\n",
              "        vertical-align: middle;\n",
              "    }\n",
              "\n",
              "    .dataframe tbody tr th {\n",
              "        vertical-align: top;\n",
              "    }\n",
              "\n",
              "    .dataframe thead th {\n",
              "        text-align: right;\n",
              "    }\n",
              "</style>\n",
              "<table border=\"1\" class=\"dataframe\">\n",
              "  <thead>\n",
              "    <tr style=\"text-align: right;\">\n",
              "      <th></th>\n",
              "      <th>sku</th>\n",
              "      <th>product_name</th>\n",
              "      <th>category</th>\n",
              "      <th>brand</th>\n",
              "      <th>active</th>\n",
              "      <th>color</th>\n",
              "      <th>season</th>\n",
              "      <th>line</th>\n",
              "    </tr>\n",
              "  </thead>\n",
              "  <tbody>\n",
              "    <tr>\n",
              "      <th>61426</th>\n",
              "      <td>MKOZELB2</td>\n",
              "      <td>Zapatillas New Balance Koze</td>\n",
              "      <td>Zapatillas</td>\n",
              "      <td>New Balance</td>\n",
              "      <td>0</td>\n",
              "      <td>Negro</td>\n",
              "      <td>Verano</td>\n",
              "      <td>Zapatillas</td>\n",
              "    </tr>\n",
              "    <tr>\n",
              "      <th>61932</th>\n",
              "      <td>DY6395</td>\n",
              "      <td>Malla Adidas Allover Printed</td>\n",
              "      <td>Trajes De Baño</td>\n",
              "      <td>Adidas</td>\n",
              "      <td>1</td>\n",
              "      <td>Azul</td>\n",
              "      <td>Otoño/Invierno</td>\n",
              "      <td>Trajes de baño</td>\n",
              "    </tr>\n",
              "    <tr>\n",
              "      <th>61933</th>\n",
              "      <td>52425</td>\n",
              "      <td>Zapatillas Topper Huayra</td>\n",
              "      <td>Zapatillas</td>\n",
              "      <td>Topper</td>\n",
              "      <td>1</td>\n",
              "      <td>Azul</td>\n",
              "      <td>Verano</td>\n",
              "      <td>Zapatillas</td>\n",
              "    </tr>\n",
              "    <tr>\n",
              "      <th>61936</th>\n",
              "      <td>A9TRAASO07CD</td>\n",
              "      <td>Botas Addnice Urban Sonic</td>\n",
              "      <td>Zapatillas</td>\n",
              "      <td>Addnice</td>\n",
              "      <td>1</td>\n",
              "      <td>Negro</td>\n",
              "      <td>Otoño</td>\n",
              "      <td>Zapatillas</td>\n",
              "    </tr>\n",
              "    <tr>\n",
              "      <th>62059</th>\n",
              "      <td>44817</td>\n",
              "      <td>Zapatillas Topper T.350</td>\n",
              "      <td>Zapatillas</td>\n",
              "      <td>Topper</td>\n",
              "      <td>1</td>\n",
              "      <td>Gris</td>\n",
              "      <td>Invierno</td>\n",
              "      <td>Zapatillas</td>\n",
              "    </tr>\n",
              "    <tr>\n",
              "      <th>...</th>\n",
              "      <td>...</td>\n",
              "      <td>...</td>\n",
              "      <td>...</td>\n",
              "      <td>...</td>\n",
              "      <td>...</td>\n",
              "      <td>...</td>\n",
              "      <td>...</td>\n",
              "      <td>...</td>\n",
              "    </tr>\n",
              "    <tr>\n",
              "      <th>836261</th>\n",
              "      <td>4142616-994</td>\n",
              "      <td>Ojotas Havaianas Slide Brasil</td>\n",
              "      <td>Ojotas</td>\n",
              "      <td>Havaianas</td>\n",
              "      <td>0</td>\n",
              "      <td>Lavanda</td>\n",
              "      <td>Verano</td>\n",
              "      <td>Ojotas</td>\n",
              "    </tr>\n",
              "    <tr>\n",
              "      <th>836265</th>\n",
              "      <td>59046</td>\n",
              "      <td>Zapatillas Topper Leon Ii Kids</td>\n",
              "      <td>Zapatillas</td>\n",
              "      <td>Topper</td>\n",
              "      <td>0</td>\n",
              "      <td>Blanco</td>\n",
              "      <td>Verano</td>\n",
              "      <td>Zapatillas</td>\n",
              "    </tr>\n",
              "    <tr>\n",
              "      <th>836270</th>\n",
              "      <td>6045321591</td>\n",
              "      <td>Ojotas Rider Strike Plus</td>\n",
              "      <td>Ojotas</td>\n",
              "      <td>Rider</td>\n",
              "      <td>0</td>\n",
              "      <td>Azul</td>\n",
              "      <td>Verano</td>\n",
              "      <td>Ojotas</td>\n",
              "    </tr>\n",
              "    <tr>\n",
              "      <th>836280</th>\n",
              "      <td>81459</td>\n",
              "      <td>Zapatillas Topper Roma Kids</td>\n",
              "      <td>Zapatillas</td>\n",
              "      <td>Topper</td>\n",
              "      <td>0</td>\n",
              "      <td>Lila</td>\n",
              "      <td>Invierno</td>\n",
              "      <td>Zapatillas</td>\n",
              "    </tr>\n",
              "    <tr>\n",
              "      <th>836394</th>\n",
              "      <td>EF0212</td>\n",
              "      <td>Zapatillas Adidas Advantage Kids</td>\n",
              "      <td>Zapatillas</td>\n",
              "      <td>Adidas</td>\n",
              "      <td>0</td>\n",
              "      <td>Negro</td>\n",
              "      <td>Otoño/Invierno</td>\n",
              "      <td>Zapatillas</td>\n",
              "    </tr>\n",
              "  </tbody>\n",
              "</table>\n",
              "<p>880 rows × 8 columns</p>\n",
              "</div>"
            ],
            "text/plain": [
              "                 sku  ...            line\n",
              "61426       MKOZELB2  ...      Zapatillas\n",
              "61932         DY6395  ...  Trajes de baño\n",
              "61933          52425  ...      Zapatillas\n",
              "61936   A9TRAASO07CD  ...      Zapatillas\n",
              "62059          44817  ...      Zapatillas\n",
              "...              ...  ...             ...\n",
              "836261   4142616-994  ...          Ojotas\n",
              "836265         59046  ...      Zapatillas\n",
              "836270    6045321591  ...          Ojotas\n",
              "836280         81459  ...      Zapatillas\n",
              "836394        EF0212  ...      Zapatillas\n",
              "\n",
              "[880 rows x 8 columns]"
            ]
          },
          "metadata": {},
          "execution_count": 61
        }
      ]
    },
    {
      "cell_type": "code",
      "metadata": {
        "colab": {
          "base_uri": "https://localhost:8080/"
        },
        "id": "pafHsWALkXFy",
        "outputId": "b4b05678-55d0-4ff9-8d74-66c0f36b834b"
      },
      "source": [
        "items['ITEM_NAME'].isna().sum()"
      ],
      "execution_count": 10,
      "outputs": [
        {
          "output_type": "execute_result",
          "data": {
            "text/plain": [
              "0"
            ]
          },
          "metadata": {},
          "execution_count": 10
        }
      ]
    },
    {
      "cell_type": "code",
      "source": [
        "interactions = pd.read_csv('/content/interactions000 (1).csv')"
      ],
      "metadata": {
        "id": "n0syV8AN2f95"
      },
      "execution_count": 76,
      "outputs": []
    },
    {
      "cell_type": "code",
      "source": [
        "interactions = interactions[['customer_id', 'sku', 'created_at']]"
      ],
      "metadata": {
        "id": "auvEB4n22wXj"
      },
      "execution_count": 77,
      "outputs": []
    },
    {
      "cell_type": "code",
      "source": [
        "interactions['EVENT_TYPE'] = 'watch'"
      ],
      "metadata": {
        "id": "9n4FUfWh3CRX"
      },
      "execution_count": 78,
      "outputs": []
    },
    {
      "cell_type": "code",
      "source": [
        ""
      ],
      "metadata": {
        "id": "MXE3t3tU4IFn"
      },
      "execution_count": null,
      "outputs": []
    },
    {
      "cell_type": "code",
      "source": [
        "interactions = interactions.rename(columns={'customer_id':'USER_ID', 'sku':'ITEM_ID'})"
      ],
      "metadata": {
        "id": "vPy-cYLx3o-g"
      },
      "execution_count": 79,
      "outputs": []
    },
    {
      "cell_type": "code",
      "source": [
        "interactions['created_at']"
      ],
      "metadata": {
        "id": "8JrR_MCm4Mgv",
        "outputId": "ad0a9acc-b9c9-4ee8-e0b8-b256a1e772df",
        "colab": {
          "base_uri": "https://localhost:8080/"
        }
      },
      "execution_count": 80,
      "outputs": [
        {
          "output_type": "execute_result",
          "data": {
            "text/plain": [
              "0         2019-05-10 19:19:07\n",
              "1         2019-05-10 19:21:15\n",
              "2         2019-05-15 14:42:17\n",
              "3         2019-05-15 14:42:17\n",
              "4         2019-05-15 15:11:34\n",
              "                 ...         \n",
              "643263    2022-06-03 14:55:04\n",
              "643264    2022-06-03 14:55:20\n",
              "643265    2022-06-03 14:55:32\n",
              "643266    2022-06-03 14:56:35\n",
              "643267    2022-06-03 14:56:37\n",
              "Name: created_at, Length: 643268, dtype: object"
            ]
          },
          "metadata": {},
          "execution_count": 80
        }
      ]
    },
    {
      "cell_type": "code",
      "source": [
        "import numpy as np"
      ],
      "metadata": {
        "id": "sT7xTmeF6xxc"
      },
      "execution_count": 36,
      "outputs": []
    },
    {
      "cell_type": "code",
      "source": [
        "interactions['datetime'] = interactions['created_at'].astype('datetime64[ns]')"
      ],
      "metadata": {
        "id": "xww_ElIk7JLt"
      },
      "execution_count": 81,
      "outputs": []
    },
    {
      "cell_type": "code",
      "source": [
        "interactions"
      ],
      "metadata": {
        "id": "HbUaDetX-jeU",
        "outputId": "58c49b9b-7199-497a-f196-e279c7e41c16",
        "colab": {
          "base_uri": "https://localhost:8080/",
          "height": 424
        }
      },
      "execution_count": 82,
      "outputs": [
        {
          "output_type": "execute_result",
          "data": {
            "text/plain": [
              "          USER_ID     ITEM_ID           created_at EVENT_TYPE  \\\n",
              "0        34048923  TEL4313PHI  2019-05-10 19:19:07      watch   \n",
              "1        34048923  TEL4313PHI  2019-05-10 19:21:15      watch   \n",
              "2        36392627  AIR3504PLO  2019-05-15 14:42:17      watch   \n",
              "3        36392627  AIR3202PLO  2019-05-15 14:42:17      watch   \n",
              "4        39214553  NOT1112NOB  2019-05-15 15:11:34      watch   \n",
              "...           ...         ...                  ...        ...   \n",
              "643263   77894661  MKT0047RBJ  2022-06-03 14:55:04      watch   \n",
              "643264   94966202  TEL4368PHI  2022-06-03 14:55:20      watch   \n",
              "643265  115503852  COC1957DOM  2022-06-03 14:55:32      watch   \n",
              "643266  115503852  COC5557PHI  2022-06-03 14:56:35      watch   \n",
              "643267  121660564  REB0010BYD  2022-06-03 14:56:37      watch   \n",
              "\n",
              "                  datetime  \n",
              "0      2019-05-10 19:19:07  \n",
              "1      2019-05-10 19:21:15  \n",
              "2      2019-05-15 14:42:17  \n",
              "3      2019-05-15 14:42:17  \n",
              "4      2019-05-15 15:11:34  \n",
              "...                    ...  \n",
              "643263 2022-06-03 14:55:04  \n",
              "643264 2022-06-03 14:55:20  \n",
              "643265 2022-06-03 14:55:32  \n",
              "643266 2022-06-03 14:56:35  \n",
              "643267 2022-06-03 14:56:37  \n",
              "\n",
              "[643268 rows x 5 columns]"
            ],
            "text/html": [
              "\n",
              "  <div id=\"df-604ea92a-e201-448e-b65f-d36531ab19ca\">\n",
              "    <div class=\"colab-df-container\">\n",
              "      <div>\n",
              "<style scoped>\n",
              "    .dataframe tbody tr th:only-of-type {\n",
              "        vertical-align: middle;\n",
              "    }\n",
              "\n",
              "    .dataframe tbody tr th {\n",
              "        vertical-align: top;\n",
              "    }\n",
              "\n",
              "    .dataframe thead th {\n",
              "        text-align: right;\n",
              "    }\n",
              "</style>\n",
              "<table border=\"1\" class=\"dataframe\">\n",
              "  <thead>\n",
              "    <tr style=\"text-align: right;\">\n",
              "      <th></th>\n",
              "      <th>USER_ID</th>\n",
              "      <th>ITEM_ID</th>\n",
              "      <th>created_at</th>\n",
              "      <th>EVENT_TYPE</th>\n",
              "      <th>datetime</th>\n",
              "    </tr>\n",
              "  </thead>\n",
              "  <tbody>\n",
              "    <tr>\n",
              "      <th>0</th>\n",
              "      <td>34048923</td>\n",
              "      <td>TEL4313PHI</td>\n",
              "      <td>2019-05-10 19:19:07</td>\n",
              "      <td>watch</td>\n",
              "      <td>2019-05-10 19:19:07</td>\n",
              "    </tr>\n",
              "    <tr>\n",
              "      <th>1</th>\n",
              "      <td>34048923</td>\n",
              "      <td>TEL4313PHI</td>\n",
              "      <td>2019-05-10 19:21:15</td>\n",
              "      <td>watch</td>\n",
              "      <td>2019-05-10 19:21:15</td>\n",
              "    </tr>\n",
              "    <tr>\n",
              "      <th>2</th>\n",
              "      <td>36392627</td>\n",
              "      <td>AIR3504PLO</td>\n",
              "      <td>2019-05-15 14:42:17</td>\n",
              "      <td>watch</td>\n",
              "      <td>2019-05-15 14:42:17</td>\n",
              "    </tr>\n",
              "    <tr>\n",
              "      <th>3</th>\n",
              "      <td>36392627</td>\n",
              "      <td>AIR3202PLO</td>\n",
              "      <td>2019-05-15 14:42:17</td>\n",
              "      <td>watch</td>\n",
              "      <td>2019-05-15 14:42:17</td>\n",
              "    </tr>\n",
              "    <tr>\n",
              "      <th>4</th>\n",
              "      <td>39214553</td>\n",
              "      <td>NOT1112NOB</td>\n",
              "      <td>2019-05-15 15:11:34</td>\n",
              "      <td>watch</td>\n",
              "      <td>2019-05-15 15:11:34</td>\n",
              "    </tr>\n",
              "    <tr>\n",
              "      <th>...</th>\n",
              "      <td>...</td>\n",
              "      <td>...</td>\n",
              "      <td>...</td>\n",
              "      <td>...</td>\n",
              "      <td>...</td>\n",
              "    </tr>\n",
              "    <tr>\n",
              "      <th>643263</th>\n",
              "      <td>77894661</td>\n",
              "      <td>MKT0047RBJ</td>\n",
              "      <td>2022-06-03 14:55:04</td>\n",
              "      <td>watch</td>\n",
              "      <td>2022-06-03 14:55:04</td>\n",
              "    </tr>\n",
              "    <tr>\n",
              "      <th>643264</th>\n",
              "      <td>94966202</td>\n",
              "      <td>TEL4368PHI</td>\n",
              "      <td>2022-06-03 14:55:20</td>\n",
              "      <td>watch</td>\n",
              "      <td>2022-06-03 14:55:20</td>\n",
              "    </tr>\n",
              "    <tr>\n",
              "      <th>643265</th>\n",
              "      <td>115503852</td>\n",
              "      <td>COC1957DOM</td>\n",
              "      <td>2022-06-03 14:55:32</td>\n",
              "      <td>watch</td>\n",
              "      <td>2022-06-03 14:55:32</td>\n",
              "    </tr>\n",
              "    <tr>\n",
              "      <th>643266</th>\n",
              "      <td>115503852</td>\n",
              "      <td>COC5557PHI</td>\n",
              "      <td>2022-06-03 14:56:35</td>\n",
              "      <td>watch</td>\n",
              "      <td>2022-06-03 14:56:35</td>\n",
              "    </tr>\n",
              "    <tr>\n",
              "      <th>643267</th>\n",
              "      <td>121660564</td>\n",
              "      <td>REB0010BYD</td>\n",
              "      <td>2022-06-03 14:56:37</td>\n",
              "      <td>watch</td>\n",
              "      <td>2022-06-03 14:56:37</td>\n",
              "    </tr>\n",
              "  </tbody>\n",
              "</table>\n",
              "<p>643268 rows × 5 columns</p>\n",
              "</div>\n",
              "      <button class=\"colab-df-convert\" onclick=\"convertToInteractive('df-604ea92a-e201-448e-b65f-d36531ab19ca')\"\n",
              "              title=\"Convert this dataframe to an interactive table.\"\n",
              "              style=\"display:none;\">\n",
              "        \n",
              "  <svg xmlns=\"http://www.w3.org/2000/svg\" height=\"24px\"viewBox=\"0 0 24 24\"\n",
              "       width=\"24px\">\n",
              "    <path d=\"M0 0h24v24H0V0z\" fill=\"none\"/>\n",
              "    <path d=\"M18.56 5.44l.94 2.06.94-2.06 2.06-.94-2.06-.94-.94-2.06-.94 2.06-2.06.94zm-11 1L8.5 8.5l.94-2.06 2.06-.94-2.06-.94L8.5 2.5l-.94 2.06-2.06.94zm10 10l.94 2.06.94-2.06 2.06-.94-2.06-.94-.94-2.06-.94 2.06-2.06.94z\"/><path d=\"M17.41 7.96l-1.37-1.37c-.4-.4-.92-.59-1.43-.59-.52 0-1.04.2-1.43.59L10.3 9.45l-7.72 7.72c-.78.78-.78 2.05 0 2.83L4 21.41c.39.39.9.59 1.41.59.51 0 1.02-.2 1.41-.59l7.78-7.78 2.81-2.81c.8-.78.8-2.07 0-2.86zM5.41 20L4 18.59l7.72-7.72 1.47 1.35L5.41 20z\"/>\n",
              "  </svg>\n",
              "      </button>\n",
              "      \n",
              "  <style>\n",
              "    .colab-df-container {\n",
              "      display:flex;\n",
              "      flex-wrap:wrap;\n",
              "      gap: 12px;\n",
              "    }\n",
              "\n",
              "    .colab-df-convert {\n",
              "      background-color: #E8F0FE;\n",
              "      border: none;\n",
              "      border-radius: 50%;\n",
              "      cursor: pointer;\n",
              "      display: none;\n",
              "      fill: #1967D2;\n",
              "      height: 32px;\n",
              "      padding: 0 0 0 0;\n",
              "      width: 32px;\n",
              "    }\n",
              "\n",
              "    .colab-df-convert:hover {\n",
              "      background-color: #E2EBFA;\n",
              "      box-shadow: 0px 1px 2px rgba(60, 64, 67, 0.3), 0px 1px 3px 1px rgba(60, 64, 67, 0.15);\n",
              "      fill: #174EA6;\n",
              "    }\n",
              "\n",
              "    [theme=dark] .colab-df-convert {\n",
              "      background-color: #3B4455;\n",
              "      fill: #D2E3FC;\n",
              "    }\n",
              "\n",
              "    [theme=dark] .colab-df-convert:hover {\n",
              "      background-color: #434B5C;\n",
              "      box-shadow: 0px 1px 3px 1px rgba(0, 0, 0, 0.15);\n",
              "      filter: drop-shadow(0px 1px 2px rgba(0, 0, 0, 0.3));\n",
              "      fill: #FFFFFF;\n",
              "    }\n",
              "  </style>\n",
              "\n",
              "      <script>\n",
              "        const buttonEl =\n",
              "          document.querySelector('#df-604ea92a-e201-448e-b65f-d36531ab19ca button.colab-df-convert');\n",
              "        buttonEl.style.display =\n",
              "          google.colab.kernel.accessAllowed ? 'block' : 'none';\n",
              "\n",
              "        async function convertToInteractive(key) {\n",
              "          const element = document.querySelector('#df-604ea92a-e201-448e-b65f-d36531ab19ca');\n",
              "          const dataTable =\n",
              "            await google.colab.kernel.invokeFunction('convertToInteractive',\n",
              "                                                     [key], {});\n",
              "          if (!dataTable) return;\n",
              "\n",
              "          const docLinkHtml = 'Like what you see? Visit the ' +\n",
              "            '<a target=\"_blank\" href=https://colab.research.google.com/notebooks/data_table.ipynb>data table notebook</a>'\n",
              "            + ' to learn more about interactive tables.';\n",
              "          element.innerHTML = '';\n",
              "          dataTable['output_type'] = 'display_data';\n",
              "          await google.colab.output.renderOutput(dataTable, element);\n",
              "          const docLink = document.createElement('div');\n",
              "          docLink.innerHTML = docLinkHtml;\n",
              "          element.appendChild(docLink);\n",
              "        }\n",
              "      </script>\n",
              "    </div>\n",
              "  </div>\n",
              "  "
            ]
          },
          "metadata": {},
          "execution_count": 82
        }
      ]
    },
    {
      "cell_type": "markdown",
      "source": [
        ""
      ],
      "metadata": {
        "id": "JJyNGPX17X8I"
      }
    },
    {
      "cell_type": "markdown",
      "source": [
        ""
      ],
      "metadata": {
        "id": "3UV8SzQ17X3I"
      }
    },
    {
      "cell_type": "code",
      "source": [
        "interactions\n"
      ],
      "metadata": {
        "id": "hkNt3_R47VPf",
        "outputId": "91561a92-0478-4394-ca8b-e2e5c4cd1b91",
        "colab": {
          "base_uri": "https://localhost:8080/",
          "height": 424
        }
      },
      "execution_count": 83,
      "outputs": [
        {
          "output_type": "execute_result",
          "data": {
            "text/plain": [
              "          USER_ID     ITEM_ID           created_at EVENT_TYPE  \\\n",
              "0        34048923  TEL4313PHI  2019-05-10 19:19:07      watch   \n",
              "1        34048923  TEL4313PHI  2019-05-10 19:21:15      watch   \n",
              "2        36392627  AIR3504PLO  2019-05-15 14:42:17      watch   \n",
              "3        36392627  AIR3202PLO  2019-05-15 14:42:17      watch   \n",
              "4        39214553  NOT1112NOB  2019-05-15 15:11:34      watch   \n",
              "...           ...         ...                  ...        ...   \n",
              "643263   77894661  MKT0047RBJ  2022-06-03 14:55:04      watch   \n",
              "643264   94966202  TEL4368PHI  2022-06-03 14:55:20      watch   \n",
              "643265  115503852  COC1957DOM  2022-06-03 14:55:32      watch   \n",
              "643266  115503852  COC5557PHI  2022-06-03 14:56:35      watch   \n",
              "643267  121660564  REB0010BYD  2022-06-03 14:56:37      watch   \n",
              "\n",
              "                  datetime  \n",
              "0      2019-05-10 19:19:07  \n",
              "1      2019-05-10 19:21:15  \n",
              "2      2019-05-15 14:42:17  \n",
              "3      2019-05-15 14:42:17  \n",
              "4      2019-05-15 15:11:34  \n",
              "...                    ...  \n",
              "643263 2022-06-03 14:55:04  \n",
              "643264 2022-06-03 14:55:20  \n",
              "643265 2022-06-03 14:55:32  \n",
              "643266 2022-06-03 14:56:35  \n",
              "643267 2022-06-03 14:56:37  \n",
              "\n",
              "[643268 rows x 5 columns]"
            ],
            "text/html": [
              "\n",
              "  <div id=\"df-947fce5d-ae84-4d3c-a9fc-5492efd464ff\">\n",
              "    <div class=\"colab-df-container\">\n",
              "      <div>\n",
              "<style scoped>\n",
              "    .dataframe tbody tr th:only-of-type {\n",
              "        vertical-align: middle;\n",
              "    }\n",
              "\n",
              "    .dataframe tbody tr th {\n",
              "        vertical-align: top;\n",
              "    }\n",
              "\n",
              "    .dataframe thead th {\n",
              "        text-align: right;\n",
              "    }\n",
              "</style>\n",
              "<table border=\"1\" class=\"dataframe\">\n",
              "  <thead>\n",
              "    <tr style=\"text-align: right;\">\n",
              "      <th></th>\n",
              "      <th>USER_ID</th>\n",
              "      <th>ITEM_ID</th>\n",
              "      <th>created_at</th>\n",
              "      <th>EVENT_TYPE</th>\n",
              "      <th>datetime</th>\n",
              "    </tr>\n",
              "  </thead>\n",
              "  <tbody>\n",
              "    <tr>\n",
              "      <th>0</th>\n",
              "      <td>34048923</td>\n",
              "      <td>TEL4313PHI</td>\n",
              "      <td>2019-05-10 19:19:07</td>\n",
              "      <td>watch</td>\n",
              "      <td>2019-05-10 19:19:07</td>\n",
              "    </tr>\n",
              "    <tr>\n",
              "      <th>1</th>\n",
              "      <td>34048923</td>\n",
              "      <td>TEL4313PHI</td>\n",
              "      <td>2019-05-10 19:21:15</td>\n",
              "      <td>watch</td>\n",
              "      <td>2019-05-10 19:21:15</td>\n",
              "    </tr>\n",
              "    <tr>\n",
              "      <th>2</th>\n",
              "      <td>36392627</td>\n",
              "      <td>AIR3504PLO</td>\n",
              "      <td>2019-05-15 14:42:17</td>\n",
              "      <td>watch</td>\n",
              "      <td>2019-05-15 14:42:17</td>\n",
              "    </tr>\n",
              "    <tr>\n",
              "      <th>3</th>\n",
              "      <td>36392627</td>\n",
              "      <td>AIR3202PLO</td>\n",
              "      <td>2019-05-15 14:42:17</td>\n",
              "      <td>watch</td>\n",
              "      <td>2019-05-15 14:42:17</td>\n",
              "    </tr>\n",
              "    <tr>\n",
              "      <th>4</th>\n",
              "      <td>39214553</td>\n",
              "      <td>NOT1112NOB</td>\n",
              "      <td>2019-05-15 15:11:34</td>\n",
              "      <td>watch</td>\n",
              "      <td>2019-05-15 15:11:34</td>\n",
              "    </tr>\n",
              "    <tr>\n",
              "      <th>...</th>\n",
              "      <td>...</td>\n",
              "      <td>...</td>\n",
              "      <td>...</td>\n",
              "      <td>...</td>\n",
              "      <td>...</td>\n",
              "    </tr>\n",
              "    <tr>\n",
              "      <th>643263</th>\n",
              "      <td>77894661</td>\n",
              "      <td>MKT0047RBJ</td>\n",
              "      <td>2022-06-03 14:55:04</td>\n",
              "      <td>watch</td>\n",
              "      <td>2022-06-03 14:55:04</td>\n",
              "    </tr>\n",
              "    <tr>\n",
              "      <th>643264</th>\n",
              "      <td>94966202</td>\n",
              "      <td>TEL4368PHI</td>\n",
              "      <td>2022-06-03 14:55:20</td>\n",
              "      <td>watch</td>\n",
              "      <td>2022-06-03 14:55:20</td>\n",
              "    </tr>\n",
              "    <tr>\n",
              "      <th>643265</th>\n",
              "      <td>115503852</td>\n",
              "      <td>COC1957DOM</td>\n",
              "      <td>2022-06-03 14:55:32</td>\n",
              "      <td>watch</td>\n",
              "      <td>2022-06-03 14:55:32</td>\n",
              "    </tr>\n",
              "    <tr>\n",
              "      <th>643266</th>\n",
              "      <td>115503852</td>\n",
              "      <td>COC5557PHI</td>\n",
              "      <td>2022-06-03 14:56:35</td>\n",
              "      <td>watch</td>\n",
              "      <td>2022-06-03 14:56:35</td>\n",
              "    </tr>\n",
              "    <tr>\n",
              "      <th>643267</th>\n",
              "      <td>121660564</td>\n",
              "      <td>REB0010BYD</td>\n",
              "      <td>2022-06-03 14:56:37</td>\n",
              "      <td>watch</td>\n",
              "      <td>2022-06-03 14:56:37</td>\n",
              "    </tr>\n",
              "  </tbody>\n",
              "</table>\n",
              "<p>643268 rows × 5 columns</p>\n",
              "</div>\n",
              "      <button class=\"colab-df-convert\" onclick=\"convertToInteractive('df-947fce5d-ae84-4d3c-a9fc-5492efd464ff')\"\n",
              "              title=\"Convert this dataframe to an interactive table.\"\n",
              "              style=\"display:none;\">\n",
              "        \n",
              "  <svg xmlns=\"http://www.w3.org/2000/svg\" height=\"24px\"viewBox=\"0 0 24 24\"\n",
              "       width=\"24px\">\n",
              "    <path d=\"M0 0h24v24H0V0z\" fill=\"none\"/>\n",
              "    <path d=\"M18.56 5.44l.94 2.06.94-2.06 2.06-.94-2.06-.94-.94-2.06-.94 2.06-2.06.94zm-11 1L8.5 8.5l.94-2.06 2.06-.94-2.06-.94L8.5 2.5l-.94 2.06-2.06.94zm10 10l.94 2.06.94-2.06 2.06-.94-2.06-.94-.94-2.06-.94 2.06-2.06.94z\"/><path d=\"M17.41 7.96l-1.37-1.37c-.4-.4-.92-.59-1.43-.59-.52 0-1.04.2-1.43.59L10.3 9.45l-7.72 7.72c-.78.78-.78 2.05 0 2.83L4 21.41c.39.39.9.59 1.41.59.51 0 1.02-.2 1.41-.59l7.78-7.78 2.81-2.81c.8-.78.8-2.07 0-2.86zM5.41 20L4 18.59l7.72-7.72 1.47 1.35L5.41 20z\"/>\n",
              "  </svg>\n",
              "      </button>\n",
              "      \n",
              "  <style>\n",
              "    .colab-df-container {\n",
              "      display:flex;\n",
              "      flex-wrap:wrap;\n",
              "      gap: 12px;\n",
              "    }\n",
              "\n",
              "    .colab-df-convert {\n",
              "      background-color: #E8F0FE;\n",
              "      border: none;\n",
              "      border-radius: 50%;\n",
              "      cursor: pointer;\n",
              "      display: none;\n",
              "      fill: #1967D2;\n",
              "      height: 32px;\n",
              "      padding: 0 0 0 0;\n",
              "      width: 32px;\n",
              "    }\n",
              "\n",
              "    .colab-df-convert:hover {\n",
              "      background-color: #E2EBFA;\n",
              "      box-shadow: 0px 1px 2px rgba(60, 64, 67, 0.3), 0px 1px 3px 1px rgba(60, 64, 67, 0.15);\n",
              "      fill: #174EA6;\n",
              "    }\n",
              "\n",
              "    [theme=dark] .colab-df-convert {\n",
              "      background-color: #3B4455;\n",
              "      fill: #D2E3FC;\n",
              "    }\n",
              "\n",
              "    [theme=dark] .colab-df-convert:hover {\n",
              "      background-color: #434B5C;\n",
              "      box-shadow: 0px 1px 3px 1px rgba(0, 0, 0, 0.15);\n",
              "      filter: drop-shadow(0px 1px 2px rgba(0, 0, 0, 0.3));\n",
              "      fill: #FFFFFF;\n",
              "    }\n",
              "  </style>\n",
              "\n",
              "      <script>\n",
              "        const buttonEl =\n",
              "          document.querySelector('#df-947fce5d-ae84-4d3c-a9fc-5492efd464ff button.colab-df-convert');\n",
              "        buttonEl.style.display =\n",
              "          google.colab.kernel.accessAllowed ? 'block' : 'none';\n",
              "\n",
              "        async function convertToInteractive(key) {\n",
              "          const element = document.querySelector('#df-947fce5d-ae84-4d3c-a9fc-5492efd464ff');\n",
              "          const dataTable =\n",
              "            await google.colab.kernel.invokeFunction('convertToInteractive',\n",
              "                                                     [key], {});\n",
              "          if (!dataTable) return;\n",
              "\n",
              "          const docLinkHtml = 'Like what you see? Visit the ' +\n",
              "            '<a target=\"_blank\" href=https://colab.research.google.com/notebooks/data_table.ipynb>data table notebook</a>'\n",
              "            + ' to learn more about interactive tables.';\n",
              "          element.innerHTML = '';\n",
              "          dataTable['output_type'] = 'display_data';\n",
              "          await google.colab.output.renderOutput(dataTable, element);\n",
              "          const docLink = document.createElement('div');\n",
              "          docLink.innerHTML = docLinkHtml;\n",
              "          element.appendChild(docLink);\n",
              "        }\n",
              "      </script>\n",
              "    </div>\n",
              "  </div>\n",
              "  "
            ]
          },
          "metadata": {},
          "execution_count": 83
        }
      ]
    },
    {
      "cell_type": "code",
      "source": [
        ""
      ],
      "metadata": {
        "id": "MXe7AlGA7VDL"
      },
      "execution_count": null,
      "outputs": []
    },
    {
      "cell_type": "code",
      "source": [
        "interactions['TIMESTAMP'] = interactions['datetime'].values.astype(np.int64) // 10 ** 9"
      ],
      "metadata": {
        "id": "UFJXEqEq6tPh"
      },
      "execution_count": 84,
      "outputs": []
    },
    {
      "cell_type": "code",
      "source": [
        ""
      ],
      "metadata": {
        "id": "ncHv_d4t-qAX"
      },
      "execution_count": 50,
      "outputs": []
    },
    {
      "cell_type": "code",
      "source": [
        "interactions.columns"
      ],
      "metadata": {
        "id": "QC_5yX0S_Lwy",
        "outputId": "8d6b08db-56bf-46bb-a123-9c762df4c054",
        "colab": {
          "base_uri": "https://localhost:8080/"
        }
      },
      "execution_count": 85,
      "outputs": [
        {
          "output_type": "execute_result",
          "data": {
            "text/plain": [
              "Index(['USER_ID', 'ITEM_ID', 'created_at', 'EVENT_TYPE', 'datetime',\n",
              "       'TIMESTAMP'],\n",
              "      dtype='object')"
            ]
          },
          "metadata": {},
          "execution_count": 85
        }
      ]
    },
    {
      "cell_type": "code",
      "source": [
        "interactions = interactions[['USER_ID', 'ITEM_ID', 'EVENT_TYPE', 'TIMESTAMP']]"
      ],
      "metadata": {
        "id": "cD35RyVw_KSS"
      },
      "execution_count": 86,
      "outputs": []
    },
    {
      "cell_type": "code",
      "source": [
        "interactions.to_csv('interactions_poc_8_6.csv')"
      ],
      "metadata": {
        "id": "Mj4ICmxh5jq3"
      },
      "execution_count": 87,
      "outputs": []
    },
    {
      "cell_type": "markdown",
      "metadata": {
        "id": "U9eDt71NpF_O"
      },
      "source": [
        "# **Análisis de la Tabla de Compras**\n"
      ]
    },
    {
      "cell_type": "code",
      "metadata": {
        "id": "IftYarQQhO9u"
      },
      "source": [
        "purchased_items = pd.read_csv('/content/purchased_items000 (1).csv')"
      ],
      "execution_count": 73,
      "outputs": []
    },
    {
      "cell_type": "code",
      "metadata": {
        "id": "iRRAoeQopMrm"
      },
      "source": [
        "purchased_items['EVENT_TYPE'] = 'purchased'"
      ],
      "execution_count": 88,
      "outputs": []
    },
    {
      "cell_type": "code",
      "source": [
        "purchased_items = purchased_items.rename(columns={'customer_id':'USER_ID', 'sku':'ITEM_ID'})"
      ],
      "metadata": {
        "id": "dRwFw3HlBWHk"
      },
      "execution_count": 89,
      "outputs": []
    },
    {
      "cell_type": "code",
      "source": [
        "purchased_items['datetime'] = purchased_items['created_at'].astype('datetime64[ns]')"
      ],
      "metadata": {
        "id": "oy1zETiGCo45"
      },
      "execution_count": 90,
      "outputs": []
    },
    {
      "cell_type": "code",
      "source": [
        "purchased_items['TIMESTAMP'] = purchased_items['datetime'].values.astype(np.int64) // 10 ** 9"
      ],
      "metadata": {
        "id": "M4bE8_0XCsE_"
      },
      "execution_count": 92,
      "outputs": []
    },
    {
      "cell_type": "code",
      "source": [
        "purchased_items = purchased_items[['USER_ID', 'ITEM_ID', 'EVENT_TYPE', 'TIMESTAMP']]"
      ],
      "metadata": {
        "id": "ib7Q_CvWDsJY"
      },
      "execution_count": 93,
      "outputs": []
    },
    {
      "cell_type": "code",
      "source": [
        "purchased_items.to_csv('purchased_poc_8_6.csv')"
      ],
      "metadata": {
        "id": "ZKQM6xkWDsJZ"
      },
      "execution_count": 94,
      "outputs": []
    },
    {
      "cell_type": "code",
      "source": [
        "interactions_full = pd.concat([purchased_items, interactions], ignore_index=True, sort=True)"
      ],
      "metadata": {
        "id": "V1_79DNFEwz2"
      },
      "execution_count": 96,
      "outputs": []
    },
    {
      "cell_type": "code",
      "source": [
        "interactions_full.to_csv('interactions_full_poc_8_6.csv')"
      ],
      "metadata": {
        "id": "kFoIMubQFO1a"
      },
      "execution_count": 98,
      "outputs": []
    },
    {
      "cell_type": "code",
      "source": [
        ""
      ],
      "metadata": {
        "id": "Roz-JkTBFzXJ"
      },
      "execution_count": null,
      "outputs": []
    },
    {
      "cell_type": "code",
      "source": [
        "clients = pd.read_csv('/content/clients000.csv')"
      ],
      "metadata": {
        "id": "sHATBNBWF4Mg"
      },
      "execution_count": 99,
      "outputs": []
    },
    {
      "cell_type": "code",
      "source": [
        "clients['']"
      ],
      "metadata": {
        "id": "jNkZ-DGoF-gR",
        "outputId": "40213382-2336-42a6-c917-6fa2d9a0f36d",
        "colab": {
          "base_uri": "https://localhost:8080/"
        }
      },
      "execution_count": 102,
      "outputs": [
        {
          "output_type": "execute_result",
          "data": {
            "text/plain": [
              "Index(['customer_id', 'birthday', 'gender', 'location', 'state', 'department',\n",
              "       'city', 'address'],\n",
              "      dtype='object')"
            ]
          },
          "metadata": {},
          "execution_count": 102
        }
      ]
    },
    {
      "cell_type": "markdown",
      "metadata": {
        "id": "Jyl1r0q3opTn"
      },
      "source": [
        "**Armamos Dataframe que tenga customer_id y cantidad de compras (purchases).**\n"
      ]
    },
    {
      "cell_type": "code",
      "metadata": {
        "id": "GhEszzmJhmpz"
      },
      "source": [
        "customer_order = purchased_items.groupby(['customer_id']).count().reset_index(level=0)\n",
        "customer_order.astype('int16')\n",
        "customer_order.columns = ['customer','purchases']"
      ],
      "execution_count": null,
      "outputs": []
    },
    {
      "cell_type": "code",
      "metadata": {
        "colab": {
          "base_uri": "https://localhost:8080/"
        },
        "id": "7MJn_1GMvhWd",
        "outputId": "80d06428-bf2c-4714-db8b-3d841c27d1f3"
      },
      "source": [
        "customer_order['purchases'] "
      ],
      "execution_count": null,
      "outputs": [
        {
          "output_type": "execute_result",
          "data": {
            "text/plain": [
              "0         84\n",
              "1         32\n",
              "2         30\n",
              "3         48\n",
              "4          4\n",
              "          ..\n",
              "862540     1\n",
              "862541     1\n",
              "862542     1\n",
              "862543     5\n",
              "862544     1\n",
              "Name: purchases, Length: 862545, dtype: int64"
            ]
          },
          "metadata": {},
          "execution_count": 66
        }
      ]
    },
    {
      "cell_type": "markdown",
      "metadata": {
        "id": "2UJA80oguxd0"
      },
      "source": [
        "**Histograma de frecuencia de compra de clientes**"
      ]
    },
    {
      "cell_type": "code",
      "metadata": {
        "colab": {
          "base_uri": "https://localhost:8080/",
          "height": 281
        },
        "id": "JACNUBOKt_iw",
        "outputId": "eecc1b51-896c-401f-e2c0-c3f9715aca91"
      },
      "source": [
        "customer_order['purchases'].plot.hist(bins=10000, xlim=(0,50))"
      ],
      "execution_count": null,
      "outputs": [
        {
          "output_type": "execute_result",
          "data": {
            "text/plain": [
              "<matplotlib.axes._subplots.AxesSubplot at 0x7fdf301fca90>"
            ]
          },
          "metadata": {},
          "execution_count": 67
        },
        {
          "output_type": "display_data",
          "data": {
            "image/png": "[encoded data removed]",
            "text/plain": [
              "<Figure size 432x288 with 1 Axes>"
            ]
          },
          "metadata": {
            "needs_background": "light"
          }
        }
      ]
    },
    {
      "cell_type": "markdown",
      "metadata": {
        "id": "NdHMqjpeusPU"
      },
      "source": [
        "**Zoom del mismo gráfico**"
      ]
    },
    {
      "cell_type": "code",
      "metadata": {
        "colab": {
          "base_uri": "https://localhost:8080/",
          "height": 281
        },
        "id": "8CUw9KMRuGDv",
        "outputId": "afa26ff7-9278-496d-85e5-a1b324d50f32"
      },
      "source": [
        "customer_order['purchases'].plot.hist(bins=10000, xlim=(0,5))"
      ],
      "execution_count": null,
      "outputs": [
        {
          "output_type": "execute_result",
          "data": {
            "text/plain": [
              "<matplotlib.axes._subplots.AxesSubplot at 0x7fdf04e3a890>"
            ]
          },
          "metadata": {},
          "execution_count": 68
        },
        {
          "output_type": "display_data",
          "data": {
            "image/png": "[encoded data removed]",
            "text/plain": [
              "<Figure size 432x288 with 1 Axes>"
            ]
          },
          "metadata": {
            "needs_background": "light"
          }
        }
      ]
    },
    {
      "cell_type": "markdown",
      "metadata": {
        "id": "_dcwb92coFZv"
      },
      "source": [
        "**Filtramos los clientes para que queden los que tengan más de una compra, quedan 677896 clientes**\n"
      ]
    },
    {
      "cell_type": "code",
      "source": [
        "customer_purchases = customer_order.set_index(['customer'])['purchases']\n"
      ],
      "metadata": {
        "id": "VzMrhoHg-R9e"
      },
      "execution_count": null,
      "outputs": []
    },
    {
      "cell_type": "code",
      "source": [
        "print(\"Cantidad de clientes con una sola compra: {}\".format(len(customer_purchases.loc[customer_purchases == 1])))"
      ],
      "metadata": {
        "id": "CN4PCDcN-cvN",
        "outputId": "ae12408b-a51c-4df7-e79e-98ac6052f2f8",
        "colab": {
          "base_uri": "https://localhost:8080/"
        }
      },
      "execution_count": null,
      "outputs": [
        {
          "output_type": "stream",
          "name": "stdout",
          "text": [
            "Cantidad de clientes con una sola compra: 184649\n"
          ]
        }
      ]
    },
    {
      "cell_type": "code",
      "source": [
        "customer_order_multiple = customer_purchases.loc[customer_purchases > 1]\n",
        "customer_order_multiple"
      ],
      "metadata": {
        "id": "YN9TZt4N-gcM",
        "outputId": "05a86c0a-0104-47e0-8a98-8968eea8ce3b",
        "colab": {
          "base_uri": "https://localhost:8080/"
        }
      },
      "execution_count": null,
      "outputs": [
        {
          "output_type": "execute_result",
          "data": {
            "text/plain": [
              "customer\n",
              "54055631     84\n",
              "54055632     32\n",
              "54055633     30\n",
              "54055634     48\n",
              "54055639      4\n",
              "             ..\n",
              "106216390     2\n",
              "106216398     3\n",
              "106216399     2\n",
              "106216448     5\n",
              "106216474     5\n",
              "Name: purchases, Length: 677896, dtype: int64"
            ]
          },
          "metadata": {},
          "execution_count": 71
        }
      ]
    },
    {
      "cell_type": "code",
      "source": [
        "print('Clientes Totales:', customer_order.shape[0])\n",
        "print('Clientes recurrentes:', customer_order_multiple.shape[0], str(round(customer_order_multiple.shape[0] / customer_order.shape[0] * 100,2)) + '%', '\\n')\n",
        "print('Compras Totales:', purchased_items.shape[0])\n",
        "\n",
        "print('Compras recurrentes:', customer_order_multiple.sum(), str(round((customer_order_multiple.sum() / customer_order['purchases'].sum()) * 100,2) ) + '%')\n"
      ],
      "metadata": {
        "id": "o9rsK52u-jcJ",
        "outputId": "ea1ad2c2-f693-440b-e05d-8e428ef131d8",
        "colab": {
          "base_uri": "https://localhost:8080/"
        }
      },
      "execution_count": null,
      "outputs": [
        {
          "output_type": "stream",
          "name": "stdout",
          "text": [
            "Clientes Totales: 862545\n",
            "Clientes recurrentes: 677896 78.59% \n",
            "\n",
            "Compras Totales: 3696696\n",
            "Compras recurrentes: 3512047 95.01%\n"
          ]
        }
      ]
    }
  ]
}